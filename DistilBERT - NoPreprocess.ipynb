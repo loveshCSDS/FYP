{
 "cells": [
  {
   "cell_type": "markdown",
   "id": "2d80bb34",
   "metadata": {},
   "source": [
    "# EDA on Amazon Labelled Fake Review Dataset "
   ]
  },
  {
   "cell_type": "markdown",
   "id": "54a821c7",
   "metadata": {},
   "source": [
    "## Import Libraries"
   ]
  },
  {
   "cell_type": "code",
   "execution_count": 1,
   "id": "d431079c",
   "metadata": {
    "scrolled": true
   },
   "outputs": [
    {
     "name": "stdout",
     "output_type": "stream",
     "text": [
      "WARNING:tensorflow:From c:\\Users\\user\\anaconda3\\lib\\site-packages\\keras\\src\\losses.py:2976: The name tf.losses.sparse_softmax_cross_entropy is deprecated. Please use tf.compat.v1.losses.sparse_softmax_cross_entropy instead.\n",
      "\n",
      "WARNING:tensorflow:From c:\\Users\\user\\anaconda3\\lib\\site-packages\\tensorflow_estimator\\python\\estimator\\util.py:74: The name tf.train.SessionRunHook is deprecated. Please use tf.estimator.SessionRunHook instead.\n",
      "\n",
      "WARNING:tensorflow:From c:\\Users\\user\\anaconda3\\lib\\site-packages\\tensorflow_hub\\native_module.py:92: The name tf.GraphKeys is deprecated. Please use tf.compat.v1.GraphKeys instead.\n",
      "\n",
      "WARNING:tensorflow:From c:\\Users\\user\\anaconda3\\lib\\site-packages\\tensorflow_hub\\saved_model_module.py:40: The name tf.saved_model.constants.LEGACY_INIT_OP_KEY is deprecated. Please use tf.compat.v1.saved_model.constants.LEGACY_INIT_OP_KEY instead.\n",
      "\n"
     ]
    }
   ],
   "source": [
    "import pandas as pd \n",
    "import seaborn as sns \n",
    "import matplotlib.pyplot as plt\n",
    "plt.style.use('default')\n",
    "sns.set(style='white')\n",
    "import tensorflow as tf\n",
    "import numpy as np\n",
    "import re\n",
    "import string\n",
    "import tensorflow as tf\n",
    "import tensorflow_hub as hub \n",
    "import torch\n",
    "import torch.nn as nn\n",
    "from transformers import BertTokenizerFast, AutoModel\n",
    "from sklearn.model_selection import train_test_split\n",
    "from sklearn.metrics import confusion_matrix, accuracy_score\n",
    "from sklearn.metrics import classification_report\n",
    "from wordcloud import WordCloud\n",
    "from textwrap import wrap\n",
    "from tqdm import tqdm\n",
    "from torch.utils.data import DataLoader, Dataset\n",
    "from transformers import DistilBertTokenizer, DistilBertForSequenceClassification, AdamW\n",
    "from torch.nn import CrossEntropyLoss\n"
   ]
  },
  {
   "cell_type": "markdown",
   "id": "9a6ea69a",
   "metadata": {},
   "source": [
    "## Read Dataset "
   ]
  },
  {
   "cell_type": "code",
   "execution_count": 2,
   "id": "d4f2f522",
   "metadata": {},
   "outputs": [],
   "source": [
    "df = pd.read_csv(\"fake reviews dataset.csv\")"
   ]
  },
  {
   "cell_type": "code",
   "execution_count": 3,
   "id": "33c156ac",
   "metadata": {
    "scrolled": false
   },
   "outputs": [
    {
     "name": "stdout",
     "output_type": "stream",
     "text": [
      "                           category  rating label  \\\n",
      "0                Home_and_Kitchen_5     5.0    CG   \n",
      "1                Home_and_Kitchen_5     5.0    CG   \n",
      "2                Home_and_Kitchen_5     5.0    CG   \n",
      "3                Home_and_Kitchen_5     1.0    CG   \n",
      "4                Home_and_Kitchen_5     5.0    CG   \n",
      "...                             ...     ...   ...   \n",
      "40427  Clothing_Shoes_and_Jewelry_5     4.0    OR   \n",
      "40428  Clothing_Shoes_and_Jewelry_5     5.0    CG   \n",
      "40429  Clothing_Shoes_and_Jewelry_5     2.0    OR   \n",
      "40430  Clothing_Shoes_and_Jewelry_5     1.0    CG   \n",
      "40431  Clothing_Shoes_and_Jewelry_5     5.0    OR   \n",
      "\n",
      "                                                   text_  \n",
      "0      Love this!  Well made, sturdy, and very comfor...  \n",
      "1      love it, a great upgrade from the original.  I...  \n",
      "2      This pillow saved my back. I love the look and...  \n",
      "3      Missing information on how to use it, but it i...  \n",
      "4      Very nice set. Good quality. We have had the s...  \n",
      "...                                                  ...  \n",
      "40427  I had read some reviews saying that this bra r...  \n",
      "40428  I wasn't sure exactly what it would be. It is ...  \n",
      "40429  You can wear the hood by itself, wear it with ...  \n",
      "40430  I liked nothing about this dress. The only rea...  \n",
      "40431  I work in the wedding industry and have to wor...  \n",
      "\n",
      "[40432 rows x 4 columns]\n"
     ]
    }
   ],
   "source": [
    "print(df)"
   ]
  },
  {
   "cell_type": "markdown",
   "id": "660a45c4",
   "metadata": {},
   "source": [
    "## Model Building"
   ]
  },
  {
   "cell_type": "code",
   "execution_count": 4,
   "id": "eeddb49a",
   "metadata": {
    "scrolled": true
   },
   "outputs": [
    {
     "name": "stderr",
     "output_type": "stream",
     "text": [
      "Some weights of the model checkpoint at distilbert-base-uncased were not used when initializing DistilBertForSequenceClassification: ['vocab_layer_norm.weight', 'vocab_transform.weight', 'vocab_projector.weight', 'vocab_projector.bias', 'vocab_transform.bias', 'vocab_layer_norm.bias']\n",
      "- This IS expected if you are initializing DistilBertForSequenceClassification from the checkpoint of a model trained on another task or with another architecture (e.g. initializing a BertForSequenceClassification model from a BertForPreTraining model).\n",
      "- This IS NOT expected if you are initializing DistilBertForSequenceClassification from the checkpoint of a model that you expect to be exactly identical (initializing a BertForSequenceClassification model from a BertForSequenceClassification model).\n",
      "Some weights of DistilBertForSequenceClassification were not initialized from the model checkpoint at distilbert-base-uncased and are newly initialized: ['pre_classifier.bias', 'classifier.bias', 'pre_classifier.weight', 'classifier.weight']\n",
      "You should probably TRAIN this model on a down-stream task to be able to use it for predictions and inference.\n",
      "Epoch 1: 100%|██████████| 4044/4044 [1:52:31<00:00,  1.67s/batches]\n"
     ]
    },
    {
     "name": "stdout",
     "output_type": "stream",
     "text": [
      "Epoch 1/3, Average Loss: 0.11334315032814975\n"
     ]
    },
    {
     "name": "stderr",
     "output_type": "stream",
     "text": [
      "Epoch 2: 100%|██████████| 4044/4044 [1:55:20<00:00,  1.71s/batches]\n"
     ]
    },
    {
     "name": "stdout",
     "output_type": "stream",
     "text": [
      "Epoch 2/3, Average Loss: 0.037805840118841326\n"
     ]
    },
    {
     "name": "stderr",
     "output_type": "stream",
     "text": [
      "Epoch 3: 100%|██████████| 4044/4044 [1:59:27<00:00,  1.77s/batches]\n"
     ]
    },
    {
     "name": "stdout",
     "output_type": "stream",
     "text": [
      "Epoch 3/3, Average Loss: 0.018216177363305695\n"
     ]
    },
    {
     "name": "stderr",
     "output_type": "stream",
     "text": [
      "Evaluating: 100%|██████████| 1011/1011 [09:51<00:00,  1.71batches/s]\n"
     ]
    },
    {
     "name": "stdout",
     "output_type": "stream",
     "text": [
      "Accuracy on the test set: 97.70%\n"
     ]
    }
   ],
   "source": [
    "\n",
    "# Split the dataset into training and testing sets\n",
    "train_df, test_df = train_test_split(df, test_size=0.2, random_state=42)\n",
    "\n",
    "# Tokenize the text data\n",
    "tokenizer = DistilBertTokenizer.from_pretrained(\"distilbert-base-uncased\")\n",
    "\n",
    "class FakeReviewDataset(Dataset):\n",
    "    def __init__(self, dataframe, tokenizer, max_length=128):\n",
    "        self.data = dataframe\n",
    "        self.tokenizer = tokenizer\n",
    "        self.max_length = max_length\n",
    "\n",
    "    def __len__(self):\n",
    "        return len(self.data)\n",
    "\n",
    "    def __getitem__(self, idx):\n",
    "        text = self.data.iloc[idx]['text_']\n",
    "        label = 1 if self.data.iloc[idx]['label'] == 'CG' else 0  # 1 for fake, 0 for original\n",
    "\n",
    "        encoding = self.tokenizer(\n",
    "            text,\n",
    "            truncation=True,\n",
    "            padding='max_length',\n",
    "            max_length=self.max_length,\n",
    "            return_tensors='pt'\n",
    "        )\n",
    "\n",
    "        return {\n",
    "            'input_ids': encoding['input_ids'].flatten(),\n",
    "            'attention_mask': encoding['attention_mask'].flatten(),\n",
    "            'labels': torch.tensor(label, dtype=torch.long)\n",
    "        }\n",
    "\n",
    "train_dataset = FakeReviewDataset(train_df, tokenizer)\n",
    "test_dataset = FakeReviewDataset(test_df, tokenizer)\n",
    "\n",
    "# Create DataLoader\n",
    "train_loader = DataLoader(train_dataset, batch_size=8, shuffle=True)\n",
    "test_loader = DataLoader(test_dataset, batch_size=8, shuffle=False)\n",
    "\n",
    "# Initialize the DistilBERT model for sequence classification\n",
    "model = DistilBertForSequenceClassification.from_pretrained(\"distilbert-base-uncased\", num_labels=2)\n",
    "\n",
    "# Define training parameters\n",
    "optimizer = torch.optim.AdamW(model.parameters(), lr=2e-5)\n",
    "class_weights = torch.tensor([1.0, 1.0]) \n",
    "criterion = CrossEntropyLoss(weight=class_weights)\n",
    "\n",
    "# Training loop\n",
    "device = torch.device(\"cuda\" if torch.cuda.is_available() else \"cpu\")\n",
    "model.to(device)\n",
    "num_epochs = 3\n",
    "\n",
    "for epoch in range(num_epochs):\n",
    "    model.train()\n",
    "    total_loss = 0\n",
    "    for batch in tqdm(train_loader, desc=f'Epoch {epoch + 1}', unit='batches'):\n",
    "        input_ids = batch['input_ids'].to(device)\n",
    "        attention_mask = batch['attention_mask'].to(device)\n",
    "        labels = batch['labels'].to(device)\n",
    "\n",
    "        optimizer.zero_grad()\n",
    "\n",
    "        outputs = model(input_ids, attention_mask=attention_mask, labels=labels)\n",
    "        loss = outputs.loss\n",
    "        total_loss += loss.item()\n",
    "\n",
    "        loss.backward()\n",
    "        optimizer.step()\n",
    "\n",
    "    average_loss = total_loss / len(train_loader)\n",
    "    print(f\"Epoch {epoch + 1}/{num_epochs}, Average Loss: {average_loss}\")\n",
    "\n",
    "# Evaluation loop\n",
    "model.eval()\n",
    "all_labels = []\n",
    "all_predictions = []\n",
    "correct = 0\n",
    "total = 0\n",
    "\n",
    "with torch.no_grad():\n",
    "    for batch in tqdm(test_loader, desc='Evaluating', unit='batches'):\n",
    "        input_ids = batch['input_ids'].to(device)\n",
    "        attention_mask = batch['attention_mask'].to(device)\n",
    "        labels = batch['labels'].to(device)\n",
    "\n",
    "        outputs = model(input_ids, attention_mask=attention_mask)\n",
    "        predictions = torch.argmax(outputs.logits, dim=1)\n",
    "        \n",
    "        # Collect labels and predictions for the all the test set\n",
    "        all_labels.extend(labels.cpu().numpy())\n",
    "        all_predictions.extend(predictions.cpu().numpy())\n",
    "\n",
    "        total += labels.size(0)\n",
    "        correct += (predictions == labels).sum().item()\n",
    "\n",
    "accuracy = correct / total\n",
    "print(f\"Accuracy on the test set: {accuracy * 100:.2f}%\")\n",
    "test_df.to_csv('test_set.csv', index=False)\n",
    "\n"
   ]
  },
  {
   "cell_type": "code",
   "execution_count": 5,
   "id": "86d6aac9",
   "metadata": {},
   "outputs": [
    {
     "data": {
      "image/png": "[encoded data removed]",
      "text/plain": [
       "<Figure size 720x504 with 2 Axes>"
      ]
     },
     "metadata": {
      "needs_background": "light"
     },
     "output_type": "display_data"
    },
    {
     "name": "stdout",
     "output_type": "stream",
     "text": [
      "              precision    recall  f1-score   support\n",
      "\n",
      "    Original       0.99      0.97      0.98      4071\n",
      "        Fake       0.97      0.99      0.98      4016\n",
      "\n",
      "    accuracy                           0.98      8087\n",
      "   macro avg       0.98      0.98      0.98      8087\n",
      "weighted avg       0.98      0.98      0.98      8087\n",
      "\n"
     ]
    }
   ],
   "source": [
    "# Generate classification report\n",
    "target_names = ['Original', 'Fake']\n",
    "\n",
    "cm = confusion_matrix(all_labels, all_predictions)\n",
    "plt.style.use('default')\n",
    "sns.set(style='white')\n",
    "plt.figure(figsize=(10, 7)) \n",
    "sns.heatmap(cm, annot=True, fmt=\"d\", cmap=\"Blues\", cbar=True) \n",
    "\n",
    "\n",
    "plt.title('Confusion Matrix', fontsize=20) \n",
    "plt.ylabel('Actual Labels', fontsize=15) \n",
    "plt.xlabel('Predicted Labels', fontsize=15) \n",
    "\n",
    "\n",
    "tick_marks = np.arange(len(target_names)) + 0.5\n",
    "\n",
    "plt.xticks(tick_marks, target_names, rotation=45, fontsize=12) \n",
    "plt.yticks(tick_marks, target_names, rotation=0, fontsize=12) \n",
    "\n",
    "plt.tight_layout() \n",
    "plt.show()\n",
    "print(classification_report(all_labels, all_predictions, target_names=target_names))\n"
   ]
  },
  {
   "cell_type": "code",
   "execution_count": 6,
   "id": "07598267",
   "metadata": {},
   "outputs": [
    {
     "name": "stdout",
     "output_type": "stream",
     "text": [
      "Model and tokenizer saved successfully!\n"
     ]
    }
   ],
   "source": [
    "model_save_path = \"distilbert_fakereview_model.pt\"\n",
    "tokenizer_save_path = \"tokenizer\"\n",
    "\n",
    "# Save the model\n",
    "torch.save(model.state_dict(), model_save_path)\n",
    "\n",
    "# Save the tokenizer\n",
    "tokenizer.save_pretrained(tokenizer_save_path)\n",
    "\n",
    "print(\"Model and tokenizer saved successfully!\")"
   ]
  },
  {
   "cell_type": "code",
   "execution_count": null,
   "id": "51c05196",
   "metadata": {},
   "outputs": [],
   "source": []
  }
 ],
 "metadata": {
  "kernelspec": {
   "display_name": "Python 3 (ipykernel)",
   "language": "python",
   "name": "python3"
  },
  "language_info": {
   "codemirror_mode": {
    "name": "ipython",
    "version": 3
   },
   "file_extension": ".py",
   "mimetype": "text/x-python",
   "name": "python",
   "nbconvert_exporter": "python",
   "pygments_lexer": "ipython3",
   "version": "3.10.13"
  }
 },
 "nbformat": 4,
 "nbformat_minor": 5
}
